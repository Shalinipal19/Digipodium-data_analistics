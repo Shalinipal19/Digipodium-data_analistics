{
 "cells": [
  {
   "cell_type": "code",
   "execution_count": 1,
   "metadata": {},
   "outputs": [
    {
     "name": "stdout",
     "output_type": "stream",
     "text": [
      "1\n"
     ]
    }
   ],
   "source": [
    "#string is a sequence of characters\n",
    "#initilise the string\n",
    "s=''\n",
    "b=1\n",
    "print(str(b))\n"
   ]
  },
  {
   "cell_type": "code",
   "execution_count": 2,
   "metadata": {},
   "outputs": [
    {
     "name": "stdout",
     "output_type": "stream",
     "text": [
      "13\n",
      "11\n"
     ]
    }
   ],
   "source": [
    "r = 'shalini pal'\n",
    "\n",
    "s = 'anshika yadav'\n",
    "print(len(s))\n",
    "print(len(r))"
   ]
  },
  {
   "cell_type": "code",
   "execution_count": 3,
   "metadata": {},
   "outputs": [
    {
     "name": "stdout",
     "output_type": "stream",
     "text": [
      "p\n",
      "0 a\n",
      "1 n\n",
      "2 s\n",
      "3 h\n",
      "4 i\n",
      "5 k\n",
      "6 a\n",
      "7  \n",
      "8 y\n",
      "9 a\n",
      "10 d\n",
      "11 a\n",
      "12 v\n"
     ]
    }
   ],
   "source": [
    "#indexing\n",
    "print(r[8])\n",
    "for i in range (len(s)):\n",
    "    print(i,s[i])"
   ]
  },
  {
   "cell_type": "code",
   "execution_count": 4,
   "metadata": {},
   "outputs": [
    {
     "name": "stdout",
     "output_type": "stream",
     "text": [
      "shalin\n"
     ]
    }
   ],
   "source": [
    "#slicing\n",
    "print(r[:6])                                        \n"
   ]
  },
  {
   "cell_type": "code",
   "execution_count": 5,
   "metadata": {},
   "outputs": [],
   "source": [
    "msg = 'life before death,strength before weakness ,JOURNEY before destination'\n"
   ]
  },
  {
   "cell_type": "code",
   "execution_count": 6,
   "metadata": {},
   "outputs": [
    {
     "name": "stdout",
     "output_type": "stream",
     "text": [
      "life before death\n"
     ]
    }
   ],
   "source": [
    "print(msg[:17])\n"
   ]
  },
  {
   "cell_type": "code",
   "execution_count": 7,
   "metadata": {},
   "outputs": [
    {
     "name": "stdout",
     "output_type": "stream",
     "text": [
      "70\n"
     ]
    }
   ],
   "source": [
    "print(len(msg))\n"
   ]
  },
  {
   "cell_type": "code",
   "execution_count": 8,
   "metadata": {},
   "outputs": [
    {
     "name": "stdout",
     "output_type": "stream",
     "text": [
      "70\n"
     ]
    }
   ],
   "source": [
    "print(len(msg))\n"
   ]
  },
  {
   "cell_type": "code",
   "execution_count": 9,
   "metadata": {},
   "outputs": [
    {
     "data": {
      "text/plain": [
       "['life',\n",
       " 'before',\n",
       " 'death,strength',\n",
       " 'before',\n",
       " 'weakness',\n",
       " ',JOURNEY',\n",
       " 'before',\n",
       " 'destination']"
      ]
     },
     "execution_count": 9,
     "metadata": {},
     "output_type": "execute_result"
    }
   ],
   "source": [
    "msg.split()\n"
   ]
  },
  {
   "cell_type": "code",
   "execution_count": 11,
   "metadata": {},
   "outputs": [
    {
     "data": {
      "text/plain": [
       "['life before death',\n",
       " 'strength before weakness ',\n",
       " 'JOURNEY before destination']"
      ]
     },
     "execution_count": 11,
     "metadata": {},
     "output_type": "execute_result"
    }
   ],
   "source": [
    "msg.split(',')\n"
   ]
  },
  {
   "cell_type": "code",
   "execution_count": 12,
   "metadata": {},
   "outputs": [
    {
     "name": "stdout",
     "output_type": "stream",
     "text": [
      "rain rain go away,\n",
      "come again another day, \n",
      "little johny wants to play,\n",
      "rain rain go away.\n",
      "-x--x--x--x--x--x--x--x--x--x-\n",
      "90 num of characters\n",
      "17 num of words\n",
      "4 num of lines\n"
     ]
    }
   ],
   "source": [
    "poem = '''rain rain go away,\n",
    "come again another day, \n",
    "little johny wants to play,\n",
    "rain rain go away.'''\n",
    "print(poem)\n",
    "poem.split(',')\n",
    "print('-x-'*10) \n",
    "print(len(poem),'num of characters')\n",
    "print(len(poem.split()),'num of words')\n",
    "print(len(poem.splitlines()),'num of lines')\n"
   ]
  },
  {
   "cell_type": "code",
   "execution_count": 14,
   "metadata": {},
   "outputs": [
    {
     "data": {
      "text/plain": [
       "4"
      ]
     },
     "execution_count": 14,
     "metadata": {},
     "output_type": "execute_result"
    }
   ],
   "source": [
    "poem.count('rain')\n"
   ]
  },
  {
   "cell_type": "code",
   "execution_count": 15,
   "metadata": {},
   "outputs": [
    {
     "name": "stdout",
     "output_type": "stream",
     "text": [
      "LIFE BEFORE DEATH,STRENGTH BEFORE WEAKNESS ,JOURNEY BEFORE DESTINATION\n",
      "life before death,strength before weakness ,journey before destination\n",
      "Life Before Death,Strength Before Weakness ,Journey Before Destination\n",
      "Life before death,strength before weakness ,journey before destination\n",
      "LIFE BEFORE DEATH,STRENGTH BEFORE WEAKNESS ,journey BEFORE DESTINATION\n"
     ]
    }
   ],
   "source": [
    "print(msg.upper())\n",
    "print(msg.lower())\n",
    "print(msg.title())\n",
    "print(msg.capitalize())\n",
    "print(msg.swapcase())\n"
   ]
  },
  {
   "cell_type": "code",
   "execution_count": 16,
   "metadata": {},
   "outputs": [
    {
     "name": "stdout",
     "output_type": "stream",
     "text": [
      "apple False\n",
      "apple True\n",
      "apple True\n",
      "290 True\n",
      "290 False\n",
      "290 True\n",
      "apple100 False\n",
      "apple100 False\n",
      "apple100 True\n"
     ]
    }
   ],
   "source": [
    "a = 'apple'\n",
    "b = '290'\n",
    "c = 'apple100'\n",
    "print(a,a.isnumeric())\n",
    "print(a,a.isalpha())\n",
    "print(a,a.isalnum())\n",
    "print(b,b.isnumeric())\n",
    "print(b,b.isalpha())\n",
    "print(b,b.isalnum())\n",
    "print(c,c.isnumeric())\n",
    "print(c,c.isalpha())\n",
    "print(c,c.isalnum())\n"
   ]
  },
  {
   "cell_type": "code",
   "execution_count": 17,
   "metadata": {},
   "outputs": [
    {
     "name": "stdout",
     "output_type": "stream",
     "text": [
      "rain rain no away,\n",
      "come again another day, \n",
      "little johny wants to play,\n",
      "rain rain no away.\n"
     ]
    }
   ],
   "source": [
    "print(poem.replace('go','no'))\n"
   ]
  },
  {
   "cell_type": "code",
   "execution_count": 23,
   "metadata": {},
   "outputs": [
    {
     "name": "stdout",
     "output_type": "stream",
     "text": [
      "rsun rsun go away,\n",
      "come agsun another day, \n",
      "little johny wants to play,\n",
      "rsun rain go away.\n"
     ]
    }
   ],
   "source": [
    "print(poem.replace('ain','sun',4))# max no.of replacement\n"
   ]
  },
  {
   "cell_type": "code",
   "execution_count": null,
   "metadata": {},
   "outputs": [],
   "source": []
  }
 ],
 "metadata": {
  "kernelspec": {
   "display_name": "base",
   "language": "python",
   "name": "python3"
  },
  "language_info": {
   "codemirror_mode": {
    "name": "ipython",
    "version": 3
   },
   "file_extension": ".py",
   "mimetype": "text/x-python",
   "name": "python",
   "nbconvert_exporter": "python",
   "pygments_lexer": "ipython3",
   "version": "3.10.12"
  },
  "orig_nbformat": 4
 },
 "nbformat": 4,
 "nbformat_minor": 2
}
