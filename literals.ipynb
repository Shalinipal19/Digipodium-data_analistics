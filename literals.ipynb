{
 "cells": [
  {
   "cell_type": "code",
   "execution_count": 1,
   "metadata": {},
   "outputs": [
    {
     "name": "stdout",
     "output_type": "stream",
     "text": [
      "5\n",
      "-10.6\n",
      "programiz\n"
     ]
    }
   ],
   "source": [
    "number = -10.6\n",
    "name = \"programiz\"\n",
    "\n",
    "#print literals\n",
    "print(5)\n",
    "\n",
    "#print variables\n",
    "print(number)\n",
    "print(name)"
   ]
  },
  {
   "cell_type": "code",
   "execution_count": 6,
   "metadata": {},
   "outputs": [
    {
     "name": "stdout",
     "output_type": "stream",
     "text": [
      "the value of x is 5 and y is 10\n"
     ]
    }
   ],
   "source": [
    "x=5\n",
    "y=10\n",
    "print('the value of x is {} and y is {}'.format(x,y))"
   ]
  },
  {
   "cell_type": "code",
   "execution_count": 7,
   "metadata": {},
   "outputs": [
    {
     "name": "stdout",
     "output_type": "stream",
     "text": [
      "you Entered: 10\n",
      "data type of num: <class 'str'>\n"
     ]
    }
   ],
   "source": [
    "# using input() to take user input\n",
    "num=input('enter a number:')\n",
    "\n",
    "print('you Entered:',num)\n",
    "print('data type of num:', type(num))"
   ]
  },
  {
   "cell_type": "code",
   "execution_count": 8,
   "metadata": {},
   "outputs": [],
   "source": [
    "num = int(input('Enter a number:'))"
   ]
  },
  {
   "cell_type": "code",
   "execution_count": null,
   "metadata": {},
   "outputs": [],
   "source": []
  }
 ],
 "metadata": {
  "kernelspec": {
   "display_name": "base",
   "language": "python",
   "name": "python3"
  },
  "language_info": {
   "codemirror_mode": {
    "name": "ipython",
    "version": 3
   },
   "file_extension": ".py",
   "mimetype": "text/x-python",
   "name": "python",
   "nbconvert_exporter": "python",
   "pygments_lexer": "ipython3",
   "version": "3.10.12"
  },
  "orig_nbformat": 4
 },
 "nbformat": 4,
 "nbformat_minor": 2
}
